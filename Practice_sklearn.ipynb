{
  "nbformat": 4,
  "nbformat_minor": 0,
  "metadata": {
    "colab": {
      "provenance": [],
      "authorship_tag": "ABX9TyNz/ZxqdJxcAT7qlDfmWGz2",
      "include_colab_link": true
    },
    "kernelspec": {
      "name": "python3",
      "display_name": "Python 3"
    },
    "language_info": {
      "name": "python"
    }
  },
  "cells": [
    {
      "cell_type": "markdown",
      "metadata": {
        "id": "view-in-github",
        "colab_type": "text"
      },
      "source": [
        "<a href=\"https://colab.research.google.com/github/Abdul-Haseeb-boonig/Practice1/blob/main/Practice_sklearn.ipynb\" target=\"_parent\"><img src=\"https://colab.research.google.com/assets/colab-badge.svg\" alt=\"Open In Colab\"/></a>"
      ]
    },
    {
      "cell_type": "markdown",
      "source": [
        "# Difference between X_test, X_train, y_test, y_train"
      ],
      "metadata": {
        "id": "cnlqqnxCdD3D"
      }
    },
    {
      "cell_type": "code",
      "source": [
        "import numpy as np\n",
        "from sklearn.model_selection import train_test_split\n",
        "X, y = np.arange(10).reshape((5, 2)), range(5)\n",
        "X"
      ],
      "metadata": {
        "colab": {
          "base_uri": "https://localhost:8080/"
        },
        "id": "eXOGiHLodPVx",
        "outputId": "44c210fb-9ee8-4e07-93e4-7c0cada3f6a8"
      },
      "execution_count": 1,
      "outputs": [
        {
          "output_type": "execute_result",
          "data": {
            "text/plain": [
              "array([[0, 1],\n",
              "       [2, 3],\n",
              "       [4, 5],\n",
              "       [6, 7],\n",
              "       [8, 9]])"
            ]
          },
          "metadata": {},
          "execution_count": 1
        }
      ]
    },
    {
      "cell_type": "code",
      "source": [
        "list(y)"
      ],
      "metadata": {
        "colab": {
          "base_uri": "https://localhost:8080/"
        },
        "id": "QXkPAAo6eAA4",
        "outputId": "9a1bfb53-9248-44f8-c285-1f88b1a9c1c2"
      },
      "execution_count": 3,
      "outputs": [
        {
          "output_type": "execute_result",
          "data": {
            "text/plain": [
              "[0, 1, 2, 3, 4]"
            ]
          },
          "metadata": {},
          "execution_count": 3
        }
      ]
    },
    {
      "cell_type": "code",
      "source": [
        "X_train, X_test, y_train, y_test = train_test_split(X, y,\n",
        "                                                    test_size = 0.33,\n",
        "                                                    random_state = 42)"
      ],
      "metadata": {
        "id": "_47MwV2XeYvf"
      },
      "execution_count": 6,
      "outputs": []
    },
    {
      "cell_type": "code",
      "source": [
        "X_train"
      ],
      "metadata": {
        "colab": {
          "base_uri": "https://localhost:8080/"
        },
        "id": "zBwB6JmCe1UG",
        "outputId": "b56313e4-4742-4ead-b365-397143b6eaf4"
      },
      "execution_count": 7,
      "outputs": [
        {
          "output_type": "execute_result",
          "data": {
            "text/plain": [
              "array([[4, 5],\n",
              "       [0, 1],\n",
              "       [6, 7]])"
            ]
          },
          "metadata": {},
          "execution_count": 7
        }
      ]
    },
    {
      "cell_type": "code",
      "source": [
        "y_train"
      ],
      "metadata": {
        "colab": {
          "base_uri": "https://localhost:8080/"
        },
        "id": "e3SDio3Ze61S",
        "outputId": "2228d385-6c71-4005-f639-9f4a3ebc935d"
      },
      "execution_count": 8,
      "outputs": [
        {
          "output_type": "execute_result",
          "data": {
            "text/plain": [
              "[2, 0, 3]"
            ]
          },
          "metadata": {},
          "execution_count": 8
        }
      ]
    },
    {
      "cell_type": "code",
      "source": [
        "X_test"
      ],
      "metadata": {
        "colab": {
          "base_uri": "https://localhost:8080/"
        },
        "id": "CaBHoWLJfBBX",
        "outputId": "45f7e892-3912-4e97-9ac6-6899b419ef42"
      },
      "execution_count": 9,
      "outputs": [
        {
          "output_type": "execute_result",
          "data": {
            "text/plain": [
              "array([[2, 3],\n",
              "       [8, 9]])"
            ]
          },
          "metadata": {},
          "execution_count": 9
        }
      ]
    },
    {
      "cell_type": "code",
      "source": [
        "y_test"
      ],
      "metadata": {
        "colab": {
          "base_uri": "https://localhost:8080/"
        },
        "id": "HvNj49KifEiT",
        "outputId": "a6762129-c819-4407-d4b5-b4d5da8f0e30"
      },
      "execution_count": 10,
      "outputs": [
        {
          "output_type": "execute_result",
          "data": {
            "text/plain": [
              "[1, 4]"
            ]
          },
          "metadata": {},
          "execution_count": 10
        }
      ]
    },
    {
      "cell_type": "code",
      "source": [
        "train_test_split(y, shuffle = False)"
      ],
      "metadata": {
        "id": "evdAG4ogfGgb",
        "colab": {
          "base_uri": "https://localhost:8080/"
        },
        "outputId": "f47c4558-4ff0-4f8b-9358-e4289d3015e0"
      },
      "execution_count": 13,
      "outputs": [
        {
          "output_type": "execute_result",
          "data": {
            "text/plain": [
              "[[0, 1, 2], [3, 4]]"
            ]
          },
          "metadata": {},
          "execution_count": 13
        }
      ]
    },
    {
      "cell_type": "code",
      "source": [
        "import pandas as pd\n",
        "from sklearn.linear_model import LogisticRegression\n",
        "from sklearn.metrics import accuracy_score, confusion_matrix\n",
        "from sklearn.metrics import classification_report\n",
        "\n",
        "df=pd.DataFrame({'X1' : [100,120,140,200,230,400,500,540,600,625],\n",
        "                 'X2' : [14,15,22,24,23,31,33,35,40,40],\n",
        "                 'Y' : [0,0,0,0,1,1,1,1,1,1]})"
      ],
      "metadata": {
        "id": "U9IdY_MYfbXs"
      },
      "execution_count": 14,
      "outputs": []
    },
    {
      "cell_type": "code",
      "source": [
        "X = df[['X1','X2']]\n",
        "y = df['Y']"
      ],
      "metadata": {
        "id": "FcPt24EgkTmg"
      },
      "execution_count": 16,
      "outputs": []
    },
    {
      "cell_type": "code",
      "source": [
        "X_train, X_test, y_train, y_test = train_test_split(X, y,\n",
        "                                                    test_size = 0.4,\n",
        "                                                    random_state = 42)\n",
        "X_train, X_test, y_train, y_test"
      ],
      "metadata": {
        "colab": {
          "base_uri": "https://localhost:8080/"
        },
        "id": "XjM6h1UOkh-T",
        "outputId": "0e4f555b-aabd-40ee-e8ef-89556103c183"
      },
      "execution_count": 17,
      "outputs": [
        {
          "output_type": "execute_result",
          "data": {
            "text/plain": [
              "(    X1  X2\n",
              " 7  540  35\n",
              " 2  140  22\n",
              " 9  625  40\n",
              " 4  230  23\n",
              " 3  200  24\n",
              " 6  500  33,\n",
              "     X1  X2\n",
              " 8  600  40\n",
              " 1  120  15\n",
              " 5  400  31\n",
              " 0  100  14,\n",
              " 7    1\n",
              " 2    0\n",
              " 9    1\n",
              " 4    1\n",
              " 3    0\n",
              " 6    1\n",
              " Name: Y, dtype: int64,\n",
              " 8    1\n",
              " 1    0\n",
              " 5    1\n",
              " 0    0\n",
              " Name: Y, dtype: int64)"
            ]
          },
          "metadata": {},
          "execution_count": 17
        }
      ]
    },
    {
      "cell_type": "markdown",
      "source": [
        "X_train : Includes all independent variables, that will be used for training. According to the above example the test size is 0.4 which means 60% of the observations that are independent"
      ],
      "metadata": {
        "id": "-GUe5YbUlZDb"
      }
    },
    {
      "cell_type": "markdown",
      "source": [
        "X_test : The rest 40% of independent variables that won't be used in the training phase instead will be used to test the accuracy of the model."
      ],
      "metadata": {
        "id": "_kE704UzqzpU"
      }
    },
    {
      "cell_type": "markdown",
      "source": [
        "y_train : Includes the dependent variable that needs to predict the model with 60% of dependent variable going towards training."
      ],
      "metadata": {
        "id": "DDlG5QhwrS-B"
      }
    },
    {
      "cell_type": "markdown",
      "source": [
        "y_test : The rest 40% of the depedent variable that is used to test the accuracy between the labels and the data."
      ],
      "metadata": {
        "id": "uzOFJ507rxYS"
      }
    },
    {
      "cell_type": "code",
      "source": [
        "LR = LogisticRegression()\n",
        "#for the trainig\n",
        "LR.fit(X_train, y_train)\n"
      ],
      "metadata": {
        "id": "eNWA80xlsAe7"
      },
      "execution_count": null,
      "outputs": []
    }
  ]
}